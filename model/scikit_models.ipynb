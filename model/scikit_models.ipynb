{
 "cells": [
  {
   "cell_type": "code",
   "execution_count": 12,
   "id": "0e55ff8e-69d7-48a9-bbad-a9d360ad2087",
   "metadata": {},
   "outputs": [
    {
     "name": "stdout",
     "output_type": "stream",
     "text": [
      "11620\n",
      "2906\n"
     ]
    }
   ],
   "source": [
    "#\n",
    "# sci kit classifiers notebook\n",
    "#\n",
    "\n",
    "# for Colab paths\n",
    "# import sys\n",
    "# sys.path.append('/content/')\n",
    "#\n",
    "#!nvidia-smi\n",
    "#!nvidia-smi -q\n",
    "import numpy as np\n",
    "from sklearn.model_selection import train_test_split\n",
    "from sklearn.linear_model import LogisticRegression\n",
    "from sklearn.tree import DecisionTreeClassifier\n",
    "from sklearn.ensemble import RandomForestClassifier\n",
    "from sklearn.svm import SVC\n",
    "from sklearn.naive_bayes import GaussianNB\n",
    "from sklearn.metrics import accuracy_score\n",
    "\n",
    "import torch\n",
    "import pandas as pd\n",
    "from torch.utils.data import Dataset, DataLoader\n",
    "from torchvision.transforms import Lambda, Compose\n",
    "from LandmarkDataset import LandmarkDataset\n",
    "from torch.utils.data.sampler import SubsetRandomSampler\n",
    "\n",
    "torch.set_default_dtype(torch.float64)\n",
    "\n",
    "\n",
    "device = torch.device('cuda' if torch.cuda.is_available() else 'cpu')\n",
    "transformations = Compose([\n",
    "    Lambda(lambda x: torch.tensor(x.values).to(device))\n",
    "])\n",
    "target_transformations = Compose([\n",
    "    Lambda(lambda x: torch.tensor(x).to(device))\n",
    "])\n",
    "\n",
    "dataset = LandmarkDataset(\"/home/jovyan/train/data\",\n",
    "                          \"/home/jovyan/model\",\n",
    "                          transform=transformations)\n",
    "\n",
    "num_classes = dataset.num_class\n",
    "input_size = dataset.input_size() #2 * (21 * 3) + 12 + 1 + 10 #149\n",
    "\n",
    "training_indices, validation_indices = dataset.train_validation_indices(split_p = .2)\n",
    " \n",
    "data = np.empty( (len(dataset), input_size))\n",
    "labels = np.empty( len(dataset), dtype=np.int8)\n",
    "                  \n",
    "for idx in training_indices:\n",
    "    data[idx] = np.array(dataset[idx][1])\n",
    "    labels[idx] = dataset[idx][0] \n",
    "\n",
    "# Split the data into training and testing sets\n",
    "X_train, X_test, y_train, y_test = train_test_split(data, labels, test_size=0.2, random_state=42)\n",
    "\n",
    "print(len(X_train))\n",
    "print(len(y_test))\n",
    "\n"
   ]
  },
  {
   "cell_type": "code",
   "execution_count": 14,
   "id": "dd9f7bfa-dd7e-4d47-a08f-8a824ef933e6",
   "metadata": {},
   "outputs": [
    {
     "name": "stdout",
     "output_type": "stream",
     "text": [
      "[17 10 49 ... 59 23  8] [17 10 49 ... 59 23  8]\n",
      "LogisticRegression accuracy: 0.949\n",
      "[17 10 49 ... 59 23  8] [17 10 49 ... 59 23  8]\n",
      "DecisionTreeClassifier accuracy: 0.940\n",
      "[17 10 49 ... 59 23  8] [17 10 49 ... 59 23  8]\n",
      "RandomForestClassifier accuracy: 0.987\n",
      "[17 10 49 ... 59 23  8] [17 10 49 ... 59 23  8]\n",
      "SVC accuracy: 0.886\n",
      "[17 10 49 ... 59 23  8] [39 37 37 ... 37 39 16]\n",
      "GaussianNB accuracy: 0.227\n"
     ]
    }
   ],
   "source": [
    "# Initialize the models\n",
    "models = [\n",
    "    LogisticRegression(max_iter=10000),\n",
    "    DecisionTreeClassifier(),\n",
    "    RandomForestClassifier(),\n",
    "    SVC(),\n",
    "    GaussianNB()\n",
    "]\n",
    "\n",
    "# Train and test each model, and compute the accuracy score\n",
    "for model in models:\n",
    "    # Train the model\n",
    "    model.fit(X_train, y_train)\n",
    "\n",
    "    # Test the model and compute the accuracy score\n",
    "    y_pred = model.predict(X_test)\n",
    "    #print(\"TEST\", X_test, \"PRED\", y_pred)\n",
    "    #print(y_test, y_pred)\n",
    "    accuracy = accuracy_score(y_test, y_pred)\n",
    "\n",
    "    # Print the model's name and accuracy score\n",
    "    print(model.__class__.__name__, \"accuracy: {:.3f}\".format(accuracy) )"
   ]
  },
  {
   "cell_type": "code",
   "execution_count": null,
   "id": "7581d375-4cf2-4f6a-b2a8-66c6b5b7f54d",
   "metadata": {},
   "outputs": [],
   "source": []
  }
 ],
 "metadata": {
  "kernelspec": {
   "display_name": "Python 3 (ipykernel)",
   "language": "python",
   "name": "python3"
  },
  "language_info": {
   "codemirror_mode": {
    "name": "ipython",
    "version": 3
   },
   "file_extension": ".py",
   "mimetype": "text/x-python",
   "name": "python",
   "nbconvert_exporter": "python",
   "pygments_lexer": "ipython3",
   "version": "3.10.6"
  }
 },
 "nbformat": 4,
 "nbformat_minor": 5
}
