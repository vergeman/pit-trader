{
 "cells": [
  {
   "cell_type": "code",
   "execution_count": 13,
   "id": "14b2aa57-f856-4ac7-85f5-6e59b77f0145",
   "metadata": {},
   "outputs": [
    {
     "name": "stdout",
     "output_type": "stream",
     "text": [
      "0 tensor([50, 51, 51, 51])\n",
      "1 tensor([50, 50, 51, 49])\n",
      "2 tensor([51, 50, 49, 50])\n",
      "3 tensor([51, 51, 50, 49])\n",
      "4 tensor([50, 50, 51, 49])\n",
      "5 tensor([49, 49, 50, 49])\n",
      "6 tensor([50])\n",
      "Done\n"
     ]
    }
   ],
   "source": [
    "#\n",
    "# classifer notebook\n",
    "#\n",
    "import torch\n",
    "from torch.utils.data import Dataset, DataLoader\n",
    "from torchvision.transforms import Lambda, Compose\n",
    "from LandmarkDataset import LandmarkDataset\n",
    "\n",
    "#\n",
    "# INITIAL DATA\n",
    "#\n",
    "\n",
    "transformations = Compose([\n",
    "    Lambda(lambda x: torch.tensor(x.values))\n",
    "])\n",
    "\n",
    "dataset = LandmarkDataset(\"/home/jovyan/train/data/landmarks.csv\",\n",
    "                              transform=transformations)\n",
    "\n",
    "dataloader = DataLoader(dataset, batch_size=4, shuffle=True)\n",
    "\n",
    "#label_batch, train_batch = next( iter(dataloader) )\n",
    "\n",
    "for batch_idx, sample in enumerate(dataloader):\n",
    "    print(batch_idx, sample[0])\n",
    "\n",
    "print(\"Done\")"
   ]
  },
  {
   "cell_type": "code",
   "execution_count": null,
   "id": "f1614e97-470f-4927-bde4-e10e3529e762",
   "metadata": {},
   "outputs": [],
   "source": []
  }
 ],
 "metadata": {
  "kernelspec": {
   "display_name": "Python 3 (ipykernel)",
   "language": "python",
   "name": "python3"
  },
  "language_info": {
   "codemirror_mode": {
    "name": "ipython",
    "version": 3
   },
   "file_extension": ".py",
   "mimetype": "text/x-python",
   "name": "python",
   "nbconvert_exporter": "python",
   "pygments_lexer": "ipython3",
   "version": "3.10.6"
  }
 },
 "nbformat": 4,
 "nbformat_minor": 5
}
