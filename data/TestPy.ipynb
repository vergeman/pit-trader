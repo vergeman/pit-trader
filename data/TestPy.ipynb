{
 "cells": [
  {
   "cell_type": "markdown",
   "id": "79e91ca7-5533-441c-a796-d0253c8f14a0",
   "metadata": {},
   "source": [
    "# Test Notebook lib access\n"
   ]
  },
  {
   "cell_type": "code",
   "execution_count": 9,
   "id": "58974c8a-3319-4ccf-b79a-22611062e998",
   "metadata": {},
   "outputs": [
    {
     "name": "stdout",
     "output_type": "stream",
     "text": [
      "Test required lib access in container\n",
      "\n",
      "False\n",
      "tensor([[0.5430, 0.9022, 0.4550],\n",
      "        [0.6347, 0.6875, 0.0842],\n",
      "        [0.1294, 0.3059, 0.2395],\n",
      "        [0.5674, 0.9123, 0.7952],\n",
      "        [0.8595, 0.9733, 0.7872]])\n",
      "DONE\n"
     ]
    },
    {
     "name": "stderr",
     "output_type": "stream",
     "text": [
      "[ WARN:0@276.979] global /io/opencv/modules/videoio/src/cap_v4l.cpp (902) open VIDEOIO(V4L2:/dev/video0): can't open camera by index\n"
     ]
    }
   ],
   "source": [
    "print(\"Test required lib access in container\\n\")\n",
    "\n",
    "import cv2\n",
    "cap=cv2.VideoCapture(0)\n",
    "print( cap.isOpened() ) \n",
    "\n",
    "\n",
    "\n",
    "import mediapipe as mp\n",
    "mp_drawing = mp.solutions.drawing_utils\n",
    "mp_drawing_styles = mp.solutions.drawing_styles\n",
    "mp_hands = mp.solutions.hands\n",
    "\n",
    "\n",
    "\n",
    "import torch\n",
    "x = torch.rand(5, 3)\n",
    "print(x)\n",
    "\n",
    "\n",
    "\n",
    "\n",
    "print(\"DONE\")\n"
   ]
  }
 ],
 "metadata": {
  "kernelspec": {
   "display_name": "Python 3 (ipykernel)",
   "language": "python",
   "name": "python3"
  },
  "language_info": {
   "codemirror_mode": {
    "name": "ipython",
    "version": 3
   },
   "file_extension": ".py",
   "mimetype": "text/x-python",
   "name": "python",
   "nbconvert_exporter": "python",
   "pygments_lexer": "ipython3",
   "version": "3.10.6"
  }
 },
 "nbformat": 4,
 "nbformat_minor": 5
}
